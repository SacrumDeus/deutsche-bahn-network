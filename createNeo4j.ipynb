{
 "cells": [
  {
   "cell_type": "markdown",
   "metadata": {},
   "source": [
    "# Create Neo4J database\n",
    "\n",
    "In this notebook, the data is transported from the staging area (Mongo DB) to the Neo4j graph database. This process consists of several steps. First, the targeted data model of the graph database is described. Then, the technical preparation steps are performed. After that, the regional areas, the stations and the trains are inserted into the graph database."
   ]
  },
  {
   "cell_type": "markdown",
   "metadata": {},
   "source": [
    "## Data model"
   ]
  },
  {
   "cell_type": "markdown",
   "metadata": {},
   "source": [
    "A neo4j database consists of **nodes** connected by **edges**. Nodes and edges can have labels and attributes.\n",
    "\n",
    "Our data model is shown in the following figure (circles represent nodes, arrows represent edges).\n",
    "\n",
    "![databaseDesign](images/databaseDesign.png)\n",
    "\n",
    "There are three different types of nodes:\n",
    "1. **State** - Attributes: stateId, name, region (West or East Germany).\n",
    "1. **County** - Attributes: countyID, gross domestic product (GDP) (per capita), unemploymentRate, population, areaSize.\n",
    "1. **Station** - Attributes: stationKey, name, latitude, longitude.\n",
    "\n",
    "Stations are located in counties. Counties are located in states. These relationships are represented as edges labeled **LOCATED_IN**.\n",
    "\n",
    "In addition, the stations are connected to each other by trains. These relationships are represented as edges labeled **TRAIN**. The train edges have different attributes:\n",
    "* trainNumber\n",
    "* trainType (e.g. ICE, IC, EC)\n",
    "* lag (delay number)\n",
    "* depTime (departure time)\n",
    "* arrTime (arrival time)\n",
    "* duration (arrTime - depTime)\n",
    "* bordrestaurant (True or False)\n",
    "* bordbistro (True or False)\n",
    "* bicycle (can bicycles be taken - True or False)\n",
    "\n",
    "Connections between stations using TRAIN edges are demonstrated using the fictitious **ICE 100** train.\n",
    "\n",
    "| Station       | Arrival Time | Departure Time | Notes          |\n",
    "| ------------- | :----------: | :------------: | ---------------|\n",
    "| Basel Bad Bf  |              |      18:50     | Bordrestaurant |\n",
    "| Freiburg Hbf  |    19:20     |      19:22     | Bordrestaurant |\n",
    "| Karlsruhe Hbf |    20:22     |      20:24     |                |\n",
    "| Stuttgart Hbf |    21:00     |                |                |"
   ]
  },
  {
   "cell_type": "markdown",
   "metadata": {},
   "source": [
    "The fictive train would be mapped in the graph database as follows (only the edge attributes are listed).\n",
    "\n",
    "![exampleTrain](images/exampleTrain.png)"
   ]
  },
  {
   "cell_type": "markdown",
   "metadata": {},
   "source": [
    "## Preparatory activities"
   ]
  },
  {
   "cell_type": "markdown",
   "metadata": {},
   "source": [
    "Before transferring the data to the graph database, some preparatory steps have to be done. First of all, some required packages have to be loaded."
   ]
  },
  {
   "cell_type": "code",
   "execution_count": 1,
   "metadata": {},
   "outputs": [],
   "source": [
    "from pymongo import MongoClient\n",
    "import pandas as pd\n",
    "from py2neo import Graph\n",
    "from py2neo.bulk import create_nodes, create_relationships\n",
    "from datetime import timedelta\n",
    "import html\n",
    "import datetime"
   ]
  },
  {
   "cell_type": "markdown",
   "metadata": {},
   "source": [
    "In the next code cells, the connections to the Mongo DB database (**source**) and to the neo4j database (**destination**) are established."
   ]
  },
  {
   "cell_type": "markdown",
   "metadata": {},
   "source": [
    "Mongo DB connection:"
   ]
  },
  {
   "cell_type": "code",
   "execution_count": 2,
   "metadata": {},
   "outputs": [],
   "source": [
    "# connect to database server\n",
    "client = MongoClient('mongodb://localhost:27017/')\n",
    "\n",
    "# select database\n",
    "db = client[\"deutscheBahn\"]"
   ]
  },
  {
   "cell_type": "markdown",
   "metadata": {},
   "source": [
    "Neo4j connection:"
   ]
  },
  {
   "cell_type": "code",
   "execution_count": 3,
   "metadata": {},
   "outputs": [],
   "source": [
    "g = Graph(\"bolt://localhost:7687\", \n",
    "        name=\"deutscheBahn\",            # database name\n",
    "        auth=(\"neo4j\", \"password\"))"
   ]
  },
  {
   "cell_type": "markdown",
   "metadata": {},
   "source": [
    "During the data transfer, the complete data is loaded into the graph database. To avoid duplicates, all existing data in the neo4j database must be deleted beforehand.  This is done in the next code cell."
   ]
  },
  {
   "cell_type": "code",
   "execution_count": 52,
   "metadata": {},
   "outputs": [
    {
     "data": {
      "text/html": [
       "(No data)"
      ],
      "text/plain": [
       "(No data)"
      ]
     },
     "execution_count": 52,
     "metadata": {},
     "output_type": "execute_result"
    }
   ],
   "source": [
    "g.run(\"MATCH (n) DETACH DELETE n\")"
   ]
  },
  {
   "cell_type": "markdown",
   "metadata": {},
   "source": [
    "## Regional areas"
   ]
  },
  {
   "cell_type": "markdown",
   "metadata": {},
   "source": [
    "In this section, the regional areas are transferred to the graph database. This includes the nodes **counties**, **states** and the **relationship (edges)** between both.\n",
    "\n",
    "First, the data is retrieved from the Mongo DB source and stored in Pandas Dataframe `regionalDf`. "
   ]
  },
  {
   "cell_type": "code",
   "execution_count": 53,
   "metadata": {},
   "outputs": [
    {
     "data": {
      "text/html": [
       "<div>\n",
       "<style scoped>\n",
       "    .dataframe tbody tr th:only-of-type {\n",
       "        vertical-align: middle;\n",
       "    }\n",
       "\n",
       "    .dataframe tbody tr th {\n",
       "        vertical-align: top;\n",
       "    }\n",
       "\n",
       "    .dataframe thead th {\n",
       "        text-align: right;\n",
       "    }\n",
       "</style>\n",
       "<table border=\"1\" class=\"dataframe\">\n",
       "  <thead>\n",
       "    <tr style=\"text-align: right;\">\n",
       "      <th></th>\n",
       "      <th>countyId</th>\n",
       "      <th>countyName</th>\n",
       "      <th>gdp</th>\n",
       "      <th>gdpPerCapita</th>\n",
       "      <th>unemploymentRate</th>\n",
       "      <th>population</th>\n",
       "      <th>areaSize</th>\n",
       "      <th>stateId</th>\n",
       "      <th>state</th>\n",
       "      <th>region</th>\n",
       "    </tr>\n",
       "  </thead>\n",
       "  <tbody>\n",
       "    <tr>\n",
       "      <th>0</th>\n",
       "      <td>01001</td>\n",
       "      <td>Flensburg, kreisfreie Stadt</td>\n",
       "      <td>3733513</td>\n",
       "      <td>41944</td>\n",
       "      <td>8.0</td>\n",
       "      <td>90164</td>\n",
       "      <td>53.02</td>\n",
       "      <td>01</td>\n",
       "      <td>Schleswig-Holstein</td>\n",
       "      <td>West Germany</td>\n",
       "    </tr>\n",
       "    <tr>\n",
       "      <th>1</th>\n",
       "      <td>01002</td>\n",
       "      <td>Kiel, Landeshauptstadt, kreisfreie Stadt</td>\n",
       "      <td>11823188</td>\n",
       "      <td>47723</td>\n",
       "      <td>7.6</td>\n",
       "      <td>246794</td>\n",
       "      <td>118.65</td>\n",
       "      <td>01</td>\n",
       "      <td>Schleswig-Holstein</td>\n",
       "      <td>West Germany</td>\n",
       "    </tr>\n",
       "    <tr>\n",
       "      <th>2</th>\n",
       "      <td>01003</td>\n",
       "      <td>Lübeck, Hansestadt, kreisfreie Stadt</td>\n",
       "      <td>9367966</td>\n",
       "      <td>43219</td>\n",
       "      <td>7.3</td>\n",
       "      <td>216530</td>\n",
       "      <td>214.19</td>\n",
       "      <td>01</td>\n",
       "      <td>Schleswig-Holstein</td>\n",
       "      <td>West Germany</td>\n",
       "    </tr>\n",
       "    <tr>\n",
       "      <th>3</th>\n",
       "      <td>01004</td>\n",
       "      <td>Neumünster, kreisfreie Stadt</td>\n",
       "      <td>3458069</td>\n",
       "      <td>43546</td>\n",
       "      <td>7.9</td>\n",
       "      <td>80196</td>\n",
       "      <td>71.66</td>\n",
       "      <td>01</td>\n",
       "      <td>Schleswig-Holstein</td>\n",
       "      <td>West Germany</td>\n",
       "    </tr>\n",
       "    <tr>\n",
       "      <th>4</th>\n",
       "      <td>01051</td>\n",
       "      <td>Dithmarschen, Landkreis</td>\n",
       "      <td>4606985</td>\n",
       "      <td>34554</td>\n",
       "      <td>5.5</td>\n",
       "      <td>133193</td>\n",
       "      <td>1428.17</td>\n",
       "      <td>01</td>\n",
       "      <td>Schleswig-Holstein</td>\n",
       "      <td>West Germany</td>\n",
       "    </tr>\n",
       "  </tbody>\n",
       "</table>\n",
       "</div>"
      ],
      "text/plain": [
       "  countyId                                countyName       gdp  gdpPerCapita  \\\n",
       "0    01001               Flensburg, kreisfreie Stadt   3733513         41944   \n",
       "1    01002  Kiel, Landeshauptstadt, kreisfreie Stadt  11823188         47723   \n",
       "2    01003      Lübeck, Hansestadt, kreisfreie Stadt   9367966         43219   \n",
       "3    01004              Neumünster, kreisfreie Stadt   3458069         43546   \n",
       "4    01051                   Dithmarschen, Landkreis   4606985         34554   \n",
       "\n",
       "   unemploymentRate  population  areaSize stateId               state  \\\n",
       "0               8.0       90164     53.02      01  Schleswig-Holstein   \n",
       "1               7.6      246794    118.65      01  Schleswig-Holstein   \n",
       "2               7.3      216530    214.19      01  Schleswig-Holstein   \n",
       "3               7.9       80196     71.66      01  Schleswig-Holstein   \n",
       "4               5.5      133193   1428.17      01  Schleswig-Holstein   \n",
       "\n",
       "         region  \n",
       "0  West Germany  \n",
       "1  West Germany  \n",
       "2  West Germany  \n",
       "3  West Germany  \n",
       "4  West Germany  "
      ]
     },
     "execution_count": 53,
     "metadata": {},
     "output_type": "execute_result"
    }
   ],
   "source": [
    "# load data\n",
    "regionalDf = pd.DataFrame(list(db.counties.find({},{\"_id\":0})))\n",
    "\n",
    "# display first rows\n",
    "regionalDf.head()"
   ]
  },
  {
   "cell_type": "markdown",
   "metadata": {},
   "source": [
    "Edges can only be created when all associated nodes are created. Therefore the nodes are created first.\n",
    "\n",
    "The bulk load of the nodes can be done with the `create_nodes(connection, data, labels)` function of the `py2neo.bulk` module. The data passed to the function (parameter 2) must be in a certain format, e.g. a list of dictionaries. Each dictionary represents a node. The keys of the dictionaries are the attributes. \n",
    "\n",
    "The **county** nodes are inserted first. We take the columns of the `regionalDf` data frame as node attributes except `stateId`, `state` and `region`, since the connection with the states is realized via edges. The value of the column `countyName` is stored as an attribute with the name `name`. This results that the name of the node being displayed in graph charts."
   ]
  },
  {
   "cell_type": "code",
   "execution_count": 54,
   "metadata": {},
   "outputs": [],
   "source": [
    "# remove state oriented informations\n",
    "countyNodes = regionalDf.drop(columns=[\"stateId\", \"state\", \"region\"])\n",
    "\n",
    "# rename county name\n",
    "countyNodes = countyNodes.rename(columns={\"countyName\":\"name\"})\n",
    "\n",
    "# create list of nested dictionaries\n",
    "countyNodes = countyNodes.to_dict(\"records\")\n",
    "\n",
    "# insert county nodes --> assign label \"County\"\n",
    "create_nodes(g.auto(), countyNodes, labels={\"County\"})"
   ]
  },
  {
   "cell_type": "markdown",
   "metadata": {},
   "source": [
    "Next, we insert the state nodes. We generate the data from the `regionalDf` data frame, according to the same principle as before. Since this data frame contains one row per county, we need to remove duplicates after selecting the relevant columns."
   ]
  },
  {
   "cell_type": "code",
   "execution_count": 55,
   "metadata": {},
   "outputs": [],
   "source": [
    "# only state oriented informations\n",
    "stateNodes = regionalDf[[\"stateId\", \"state\", \"region\"]]\n",
    "\n",
    "# rename state name\n",
    "stateNodes = stateNodes.rename(columns={\"state\":\"name\"})\n",
    "\n",
    "# drop duplicates\n",
    "stateNodes = stateNodes.drop_duplicates()\n",
    "\n",
    "# create list of nested dictionaries\n",
    "stateNodes = stateNodes.to_dict(\"records\")\n",
    "\n",
    "# insert state nodes --> assign label \"State\"\n",
    "create_nodes(g.auto(), stateNodes, labels={\"State\"})"
   ]
  },
  {
   "cell_type": "markdown",
   "metadata": {},
   "source": [
    "Finally, the edges from the county nodes to the the state nodes are created (label `LOCATED_IN`). This is done with the function `create_relationships(connection, data, label, start_node_properties, end_node_properties)` from the `py2neo.bulk` module. The data passed to the function (parameter 2) must be a list of nested tuples. Each tuple consists of three elements. The first element specifies the key(s) of the starting node. The second element is a dictionary containing the attributes of the edge. The third element specifies the key(s) of the end node."
   ]
  },
  {
   "cell_type": "code",
   "execution_count": 56,
   "metadata": {},
   "outputs": [
    {
     "data": {
      "text/plain": [
       "[('01001', {}, '01'),\n",
       " ('01002', {}, '01'),\n",
       " ('01003', {}, '01'),\n",
       " ('01004', {}, '01')]"
      ]
     },
     "execution_count": 56,
     "metadata": {},
     "output_type": "execute_result"
    }
   ],
   "source": [
    "# only connection columns\n",
    "countyStateEdges = regionalDf[[\"countyId\", \"stateId\"]]\n",
    "\n",
    "# create list of nested dictionaries \n",
    "countyStateEdges = countyStateEdges.to_dict(\"records\")\n",
    "\n",
    "# convert to required format\n",
    "countyStateEdges = [(edge[\"countyId\"], {}, edge[\"stateId\"]) for edge in countyStateEdges]\n",
    "\n",
    "# print first rows\n",
    "countyStateEdges[:4]"
   ]
  },
  {
   "cell_type": "code",
   "execution_count": 57,
   "metadata": {},
   "outputs": [],
   "source": [
    "# insert into the database\n",
    "create_relationships(g.auto(), countyStateEdges, \"LOCATED_IN\", \\\n",
    "    start_node_key=(\"County\", \"countyId\"), end_node_key=(\"State\", \"stateId\"))"
   ]
  },
  {
   "cell_type": "markdown",
   "metadata": {},
   "source": [
    "## Stations"
   ]
  },
  {
   "cell_type": "markdown",
   "metadata": {},
   "source": [
    "In this section the station data is transferred to the neo4j database. This includes the creation of the station nodes and the creation of the edges from the stations to the counties.\n",
    "\n",
    "The station data is available in two Mongo DB collections.  The first collection is the  `Station ` collection. This collection contains all stations that existed in January 2020. Many of the stations in this collection are regional stations that are not used by long distance trains. However, some stations that are served by long-distance trains are not included in this collection (e.g. Lindau Reutin, which became operational in December 2020). The second collection of station data is named  `Train ` and contains the timetable of trains.  The timetable contains the columns IBNR (identification of the station), name, longitude and latitude of the stations served by long-distance trains.\n",
    "\n",
    "We process the data in three steps. Since we do not want to have stations without long-distance trains in our database, we first extract all stations served by long-distance trains from the timetables (collection `train`). Then we add additional attributes from the `station` collection. After that, we perform various transformation steps. Finally, we add the station nodes and the edges from the stations to the counties into the neo4j graph database. \n",
    "\n",
    "In the next code cell, the station data (IBNR, name, latitude, longitude) is extracted from the timetable and stored in a Pandas data frame. We consider only German stations. The IBNR (station identifier) of these stations starts with the digits \"80\"."
   ]
  },
  {
   "cell_type": "code",
   "execution_count": 58,
   "metadata": {},
   "outputs": [
    {
     "data": {
      "text/html": [
       "<div>\n",
       "<style scoped>\n",
       "    .dataframe tbody tr th:only-of-type {\n",
       "        vertical-align: middle;\n",
       "    }\n",
       "\n",
       "    .dataframe tbody tr th {\n",
       "        vertical-align: top;\n",
       "    }\n",
       "\n",
       "    .dataframe thead th {\n",
       "        text-align: right;\n",
       "    }\n",
       "</style>\n",
       "<table border=\"1\" class=\"dataframe\">\n",
       "  <thead>\n",
       "    <tr style=\"text-align: right;\">\n",
       "      <th></th>\n",
       "      <th>IBNR</th>\n",
       "      <th>name</th>\n",
       "      <th>longitude</th>\n",
       "      <th>latitude</th>\n",
       "    </tr>\n",
       "  </thead>\n",
       "  <tbody>\n",
       "    <tr>\n",
       "      <th>0</th>\n",
       "      <td>8010085</td>\n",
       "      <td>Dresden Hbf</td>\n",
       "      <td>13.732039</td>\n",
       "      <td>51.040562</td>\n",
       "    </tr>\n",
       "    <tr>\n",
       "      <th>1</th>\n",
       "      <td>8010089</td>\n",
       "      <td>Dresden-Neustadt</td>\n",
       "      <td>13.740704</td>\n",
       "      <td>51.065903</td>\n",
       "    </tr>\n",
       "    <tr>\n",
       "      <th>2</th>\n",
       "      <td>8010099</td>\n",
       "      <td>Elsterwerda</td>\n",
       "      <td>13.516432</td>\n",
       "      <td>51.459675</td>\n",
       "    </tr>\n",
       "    <tr>\n",
       "      <th>3</th>\n",
       "      <td>8010079</td>\n",
       "      <td>Doberlug-Kirchhain</td>\n",
       "      <td>13.564237</td>\n",
       "      <td>51.620573</td>\n",
       "    </tr>\n",
       "    <tr>\n",
       "      <th>4</th>\n",
       "      <td>8011201</td>\n",
       "      <td>Flughafen BER - Terminal 1-2</td>\n",
       "      <td>13.511947</td>\n",
       "      <td>52.364808</td>\n",
       "    </tr>\n",
       "  </tbody>\n",
       "</table>\n",
       "</div>"
      ],
      "text/plain": [
       "      IBNR                          name  longitude   latitude\n",
       "0  8010085                   Dresden Hbf  13.732039  51.040562\n",
       "1  8010089              Dresden-Neustadt  13.740704  51.065903\n",
       "2  8010099                   Elsterwerda  13.516432  51.459675\n",
       "3  8010079            Doberlug-Kirchhain  13.564237  51.620573\n",
       "4  8011201  Flughafen BER - Terminal 1-2  13.511947  52.364808"
      ]
     },
     "execution_count": 58,
     "metadata": {},
     "output_type": "execute_result"
    }
   ],
   "source": [
    "# create empty list\n",
    "stationList = []\n",
    "\n",
    "# query train timetable\n",
    "result = db.stops.find({},{\"stop\":1,\"_id\":0})\n",
    "\n",
    "\n",
    "for train in result:\n",
    "\n",
    "    timetableTrain = train[\"stop\"]\n",
    "\n",
    "    for stop in timetableTrain:\n",
    "\n",
    "        # create empty dict\n",
    "        stationDict = {}\n",
    "\n",
    "        # only add station to dictionary which is not yet in the list and which is in germany\n",
    "        if not any(d[\"IBNR\"] == stop[\"stopId\"] for d in stationList) and str(stop[\"stopId\"])[:2]==\"80\":\n",
    "\n",
    "            stationDict[\"IBNR\"] = stop[\"stopId\"]\n",
    "            stationDict[\"name\"] = html.unescape(stop[\"stopName\"])\n",
    "            stationDict[\"longitude\"] = float(stop[\"lon\"].replace(',','.'))\n",
    "            stationDict[\"latitude\"] = float(stop[\"lat\"].replace(',','.'))\n",
    "\n",
    "            stationList.append(stationDict)\n",
    "\n",
    "# convert to dataframe\n",
    "stationDf = pd.DataFrame(stationList)\n",
    "\n",
    "# display sample data\n",
    "stationDf.head()"
   ]
  },
  {
   "cell_type": "markdown",
   "metadata": {},
   "source": [
    "Next, we add more columns from the collection `station` to the Pandas dataframe by performing a feft join. These are the columns `Operator_No` and `IFOPT`. The `IFOPT` column contains information about the county."
   ]
  },
  {
   "cell_type": "code",
   "execution_count": 59,
   "metadata": {},
   "outputs": [
    {
     "data": {
      "text/html": [
       "<div>\n",
       "<style scoped>\n",
       "    .dataframe tbody tr th:only-of-type {\n",
       "        vertical-align: middle;\n",
       "    }\n",
       "\n",
       "    .dataframe tbody tr th {\n",
       "        vertical-align: top;\n",
       "    }\n",
       "\n",
       "    .dataframe thead th {\n",
       "        text-align: right;\n",
       "    }\n",
       "</style>\n",
       "<table border=\"1\" class=\"dataframe\">\n",
       "  <thead>\n",
       "    <tr style=\"text-align: right;\">\n",
       "      <th></th>\n",
       "      <th>IBNR</th>\n",
       "      <th>name</th>\n",
       "      <th>longitude</th>\n",
       "      <th>latitude</th>\n",
       "      <th>IFOPT</th>\n",
       "      <th>Betreiber_Nr</th>\n",
       "    </tr>\n",
       "  </thead>\n",
       "  <tbody>\n",
       "    <tr>\n",
       "      <th>0</th>\n",
       "      <td>8010085</td>\n",
       "      <td>Dresden Hbf</td>\n",
       "      <td>13.732039</td>\n",
       "      <td>51.040562</td>\n",
       "      <td>de:14612:28</td>\n",
       "      <td>1343.0</td>\n",
       "    </tr>\n",
       "    <tr>\n",
       "      <th>1</th>\n",
       "      <td>8010089</td>\n",
       "      <td>Dresden-Neustadt</td>\n",
       "      <td>13.740704</td>\n",
       "      <td>51.065903</td>\n",
       "      <td>de:14612:16</td>\n",
       "      <td>1352.0</td>\n",
       "    </tr>\n",
       "    <tr>\n",
       "      <th>2</th>\n",
       "      <td>8010099</td>\n",
       "      <td>Elsterwerda</td>\n",
       "      <td>13.516432</td>\n",
       "      <td>51.459675</td>\n",
       "      <td>de:12062:900415502</td>\n",
       "      <td>1569.0</td>\n",
       "    </tr>\n",
       "    <tr>\n",
       "      <th>3</th>\n",
       "      <td>8010079</td>\n",
       "      <td>Doberlug-Kirchhain</td>\n",
       "      <td>13.564237</td>\n",
       "      <td>51.620573</td>\n",
       "      <td>de:12062:900415112</td>\n",
       "      <td>1240.0</td>\n",
       "    </tr>\n",
       "    <tr>\n",
       "      <th>4</th>\n",
       "      <td>8011201</td>\n",
       "      <td>Flughafen BER - Terminal 1-2</td>\n",
       "      <td>13.511947</td>\n",
       "      <td>52.364808</td>\n",
       "      <td>de:12061:900260009</td>\n",
       "      <td>NaN</td>\n",
       "    </tr>\n",
       "  </tbody>\n",
       "</table>\n",
       "</div>"
      ],
      "text/plain": [
       "      IBNR                          name  longitude   latitude  \\\n",
       "0  8010085                   Dresden Hbf  13.732039  51.040562   \n",
       "1  8010089              Dresden-Neustadt  13.740704  51.065903   \n",
       "2  8010099                   Elsterwerda  13.516432  51.459675   \n",
       "3  8010079            Doberlug-Kirchhain  13.564237  51.620573   \n",
       "4  8011201  Flughafen BER - Terminal 1-2  13.511947  52.364808   \n",
       "\n",
       "                IFOPT  Betreiber_Nr  \n",
       "0         de:14612:28        1343.0  \n",
       "1         de:14612:16        1352.0  \n",
       "2  de:12062:900415502        1569.0  \n",
       "3  de:12062:900415112        1240.0  \n",
       "4  de:12061:900260009           NaN  "
      ]
     },
     "execution_count": 59,
     "metadata": {},
     "output_type": "execute_result"
    }
   ],
   "source": [
    "#  query data\n",
    "stationMap = pd.DataFrame(list(db.station.find({},{\"_id\":0})))\n",
    "\n",
    "# rename key column\n",
    "stationMap = stationMap.rename(columns={\"EVA_NR\":\"IBNR\"})\n",
    "\n",
    "# select relevant data\n",
    "stationMap = stationMap[[\"IBNR\", \"IFOPT\", \"Betreiber_Nr\"]]\n",
    "\n",
    "# join to existing data frame\n",
    "stationDf = pd.merge(stationDf, stationMap, how=\"left\", on=\"IBNR\")\n",
    "\n",
    "# display top rows\n",
    "stationDf.head()"
   ]
  },
  {
   "cell_type": "markdown",
   "metadata": {},
   "source": [
    "The timetable data uses the IBNR to identify the stations. Large stations can have several IBNR. Examples are Berlin Hbf or Munich Hbf."
   ]
  },
  {
   "cell_type": "code",
   "execution_count": 28,
   "metadata": {},
   "outputs": [
    {
     "data": {
      "text/html": [
       "<div>\n",
       "<style scoped>\n",
       "    .dataframe tbody tr th:only-of-type {\n",
       "        vertical-align: middle;\n",
       "    }\n",
       "\n",
       "    .dataframe tbody tr th {\n",
       "        vertical-align: top;\n",
       "    }\n",
       "\n",
       "    .dataframe thead th {\n",
       "        text-align: right;\n",
       "    }\n",
       "</style>\n",
       "<table border=\"1\" class=\"dataframe\">\n",
       "  <thead>\n",
       "    <tr style=\"text-align: right;\">\n",
       "      <th></th>\n",
       "      <th>IBNR</th>\n",
       "      <th>name</th>\n",
       "      <th>longitude</th>\n",
       "      <th>latitude</th>\n",
       "      <th>IFOPT</th>\n",
       "      <th>Betreiber_Nr</th>\n",
       "    </tr>\n",
       "  </thead>\n",
       "  <tbody>\n",
       "    <tr>\n",
       "      <th>109</th>\n",
       "      <td>8000261</td>\n",
       "      <td>München Hbf</td>\n",
       "      <td>11.558339</td>\n",
       "      <td>48.140229</td>\n",
       "      <td>de:09162:100</td>\n",
       "      <td>4234.0</td>\n",
       "    </tr>\n",
       "    <tr>\n",
       "      <th>317</th>\n",
       "      <td>8098261</td>\n",
       "      <td>München Hbf Gl.27-36</td>\n",
       "      <td>11.556712</td>\n",
       "      <td>48.141532</td>\n",
       "      <td>de:09162:100:27</td>\n",
       "      <td>4234.0</td>\n",
       "    </tr>\n",
       "    <tr>\n",
       "      <th>347</th>\n",
       "      <td>8098262</td>\n",
       "      <td>München Hbf Gl.5-10</td>\n",
       "      <td>11.555373</td>\n",
       "      <td>48.140094</td>\n",
       "      <td>de:09162:100</td>\n",
       "      <td>4234.0</td>\n",
       "    </tr>\n",
       "  </tbody>\n",
       "</table>\n",
       "</div>"
      ],
      "text/plain": [
       "        IBNR                  name  longitude   latitude            IFOPT  \\\n",
       "109  8000261           München Hbf  11.558339  48.140229     de:09162:100   \n",
       "317  8098261  München Hbf Gl.27-36  11.556712  48.141532  de:09162:100:27   \n",
       "347  8098262   München Hbf Gl.5-10  11.555373  48.140094     de:09162:100   \n",
       "\n",
       "     Betreiber_Nr  \n",
       "109        4234.0  \n",
       "317        4234.0  \n",
       "347        4234.0  "
      ]
     },
     "execution_count": 28,
     "metadata": {},
     "output_type": "execute_result"
    }
   ],
   "source": [
    "stationDf[stationDf[\"name\"].str.contains(\"München Hbf\")]"
   ]
  },
  {
   "cell_type": "markdown",
   "metadata": {},
   "source": [
    "One task of the project is to find the shortest train connections between two cities with their respective interchange stations. This is not possible when using IBNR as a station key, because in this case each station part of some large stations (like Munich Hbf) is considered as a single station and trains arrive and depart at different station parts. To solve this problem, we need to combine/connect all parts of a station.\n",
    "\n",
    "For this purpose we define a new station key. Most stations (all stations with several parts) have a so-called `Betreiber_Nr`. This number is the same for all parts of a station. However, for some stations the `Betreiber_Nr` is not available. Therefore our own station key is defined as follows: `Betreiber_Nr` if available, otherwise `IBNR`. The new station key has a letter as prefix. The If `Betreiber_Nr` is used, \"B\" is used as prefix, otherwise \"I\" is used as prefix.\n",
    "\n",
    "The `stationKey` is created in the next cell. Also, the countyId is extracted from the `IFOPT` column."
   ]
  },
  {
   "cell_type": "code",
   "execution_count": 60,
   "metadata": {},
   "outputs": [
    {
     "data": {
      "text/html": [
       "<div>\n",
       "<style scoped>\n",
       "    .dataframe tbody tr th:only-of-type {\n",
       "        vertical-align: middle;\n",
       "    }\n",
       "\n",
       "    .dataframe tbody tr th {\n",
       "        vertical-align: top;\n",
       "    }\n",
       "\n",
       "    .dataframe thead th {\n",
       "        text-align: right;\n",
       "    }\n",
       "</style>\n",
       "<table border=\"1\" class=\"dataframe\">\n",
       "  <thead>\n",
       "    <tr style=\"text-align: right;\">\n",
       "      <th></th>\n",
       "      <th>IBNR</th>\n",
       "      <th>name</th>\n",
       "      <th>longitude</th>\n",
       "      <th>latitude</th>\n",
       "      <th>IFOPT</th>\n",
       "      <th>Betreiber_Nr</th>\n",
       "      <th>stationKey</th>\n",
       "      <th>countyId</th>\n",
       "    </tr>\n",
       "  </thead>\n",
       "  <tbody>\n",
       "    <tr>\n",
       "      <th>0</th>\n",
       "      <td>8010085</td>\n",
       "      <td>Dresden Hbf</td>\n",
       "      <td>13.732039</td>\n",
       "      <td>51.040562</td>\n",
       "      <td>de:14612:28</td>\n",
       "      <td>B1343</td>\n",
       "      <td>B1343</td>\n",
       "      <td>14612</td>\n",
       "    </tr>\n",
       "    <tr>\n",
       "      <th>1</th>\n",
       "      <td>8010089</td>\n",
       "      <td>Dresden-Neustadt</td>\n",
       "      <td>13.740704</td>\n",
       "      <td>51.065903</td>\n",
       "      <td>de:14612:16</td>\n",
       "      <td>B1352</td>\n",
       "      <td>B1352</td>\n",
       "      <td>14612</td>\n",
       "    </tr>\n",
       "    <tr>\n",
       "      <th>2</th>\n",
       "      <td>8010099</td>\n",
       "      <td>Elsterwerda</td>\n",
       "      <td>13.516432</td>\n",
       "      <td>51.459675</td>\n",
       "      <td>de:12062:900415502</td>\n",
       "      <td>B1569</td>\n",
       "      <td>B1569</td>\n",
       "      <td>12062</td>\n",
       "    </tr>\n",
       "    <tr>\n",
       "      <th>3</th>\n",
       "      <td>8010079</td>\n",
       "      <td>Doberlug-Kirchhain</td>\n",
       "      <td>13.564237</td>\n",
       "      <td>51.620573</td>\n",
       "      <td>de:12062:900415112</td>\n",
       "      <td>B1240</td>\n",
       "      <td>B1240</td>\n",
       "      <td>12062</td>\n",
       "    </tr>\n",
       "    <tr>\n",
       "      <th>4</th>\n",
       "      <td>8011201</td>\n",
       "      <td>Flughafen BER - Terminal 1-2</td>\n",
       "      <td>13.511947</td>\n",
       "      <td>52.364808</td>\n",
       "      <td>de:12061:900260009</td>\n",
       "      <td>&lt;NA&gt;</td>\n",
       "      <td>I8011201</td>\n",
       "      <td>12061</td>\n",
       "    </tr>\n",
       "  </tbody>\n",
       "</table>\n",
       "</div>"
      ],
      "text/plain": [
       "      IBNR                          name  longitude   latitude  \\\n",
       "0  8010085                   Dresden Hbf  13.732039  51.040562   \n",
       "1  8010089              Dresden-Neustadt  13.740704  51.065903   \n",
       "2  8010099                   Elsterwerda  13.516432  51.459675   \n",
       "3  8010079            Doberlug-Kirchhain  13.564237  51.620573   \n",
       "4  8011201  Flughafen BER - Terminal 1-2  13.511947  52.364808   \n",
       "\n",
       "                IFOPT Betreiber_Nr stationKey countyId  \n",
       "0         de:14612:28        B1343      B1343    14612  \n",
       "1         de:14612:16        B1352      B1352    14612  \n",
       "2  de:12062:900415502        B1569      B1569    12062  \n",
       "3  de:12062:900415112        B1240      B1240    12062  \n",
       "4  de:12061:900260009         <NA>   I8011201    12061  "
      ]
     },
     "execution_count": 60,
     "metadata": {},
     "output_type": "execute_result"
    }
   ],
   "source": [
    "# add prefix B to col \"Betreiber_Nr\"\n",
    "stationDf[\"Betreiber_Nr\"] =  ('B'+stationDf[\"Betreiber_Nr\"].astype(\"Int64\").astype(\"string\"))\n",
    "\n",
    "# generate station key\n",
    "stationDf[\"stationKey\"] = stationDf.Betreiber_Nr.combine_first(('I'+stationDf[\"IBNR\"].astype(\"string\")))\n",
    "\n",
    "# extract countyId from IFOPT column (countyId is in the middle)\n",
    "stationDf[\"countyId\"] = stationDf[\"IFOPT\"].str.split(\":\",expand=True)[1]\n",
    "\n",
    "# display first rows\n",
    "stationDf.head()"
   ]
  },
  {
   "cell_type": "code",
   "execution_count": 61,
   "metadata": {},
   "outputs": [],
   "source": [
    "# drop unneeded columns\n",
    "stationDf = stationDf.drop([\"Betreiber_Nr\",\"IFOPT\"], axis=1)"
   ]
  },
  {
   "cell_type": "markdown",
   "metadata": {},
   "source": [
    "Then the station nodes are created in the graph database. Stations with multiple parts have multiple lines in the data frame (example Berlin Hbf). To avoid duplicates in the database, we first need to determine which row we want to use to create a node. In this case we take the row with the smallest IBNR number. We take all other columns of the `stationDf` data frame as node attributes except `countyId`, because the connection with the counties is realized via an edge."
   ]
  },
  {
   "cell_type": "code",
   "execution_count": 62,
   "metadata": {},
   "outputs": [],
   "source": [
    "# define relevant station (minimum IBNR)\n",
    "minIBNR = stationDf.groupby(\"stationKey\", as_index=False).min(\"IBNR\")[\"IBNR\"]\n",
    "\n",
    "# only select relevant stations\n",
    "stationNodes = stationDf[stationDf[\"IBNR\"].isin(minIBNR)]\n",
    "\n",
    "# drop countyId column\n",
    "stationNodes = stationNodes.drop(columns=[\"countyId\"])\n",
    "\n",
    "# convert to required format \n",
    "stationNodes = stationNodes.to_dict(\"records\")\n",
    "\n",
    "# insert state nodes --> assign label \"Station\"\n",
    "create_nodes(g.auto(), stationNodes, labels={\"Station\"})"
   ]
  },
  {
   "cell_type": "markdown",
   "metadata": {},
   "source": [
    "Finally, the edges from the station nodes to the county nodes are created (label `LOCATED_IN`)."
   ]
  },
  {
   "cell_type": "code",
   "execution_count": 63,
   "metadata": {},
   "outputs": [],
   "source": [
    "# extract key attributes\n",
    "stationCountyEdges = stationDf[[\"stationKey\", \"countyId\"]]\n",
    "\n",
    "# convert to required format\n",
    "stationCountyEdges = stationCountyEdges.to_dict(\"records\")\n",
    "stationCountyEdges = [(edge[\"stationKey\"], {}, edge[\"countyId\"]) for edge in stationCountyEdges]\n",
    "\n",
    "# insert relationship\n",
    "create_relationships(g.auto(), stationCountyEdges, \"LOCATED_IN\", \\\n",
    "    start_node_key=(\"Station\", \"stationKey\"), end_node_key=(\"County\", \"countyId\"))"
   ]
  },
  {
   "cell_type": "markdown",
   "metadata": {},
   "source": [
    "The following database query checks wheather each station is assigned to an county (data validation)."
   ]
  },
  {
   "cell_type": "code",
   "execution_count": 64,
   "metadata": {},
   "outputs": [
    {
     "data": {
      "text/html": [
       "<div>\n",
       "<style scoped>\n",
       "    .dataframe tbody tr th:only-of-type {\n",
       "        vertical-align: middle;\n",
       "    }\n",
       "\n",
       "    .dataframe tbody tr th {\n",
       "        vertical-align: top;\n",
       "    }\n",
       "\n",
       "    .dataframe thead th {\n",
       "        text-align: right;\n",
       "    }\n",
       "</style>\n",
       "<table border=\"1\" class=\"dataframe\">\n",
       "  <thead>\n",
       "    <tr style=\"text-align: right;\">\n",
       "      <th></th>\n",
       "      <th>0</th>\n",
       "      <th>1</th>\n",
       "    </tr>\n",
       "  </thead>\n",
       "  <tbody>\n",
       "    <tr>\n",
       "      <th>0</th>\n",
       "      <td>B2218</td>\n",
       "      <td>Göttingen</td>\n",
       "    </tr>\n",
       "    <tr>\n",
       "      <th>1</th>\n",
       "      <td>I8000026</td>\n",
       "      <td>Basel Bad Bf</td>\n",
       "    </tr>\n",
       "    <tr>\n",
       "      <th>2</th>\n",
       "      <td>I8003693</td>\n",
       "      <td>Lindau-Reutin</td>\n",
       "    </tr>\n",
       "    <tr>\n",
       "      <th>3</th>\n",
       "      <td>I8099503</td>\n",
       "      <td>Hildesheim Gbf</td>\n",
       "    </tr>\n",
       "  </tbody>\n",
       "</table>\n",
       "</div>"
      ],
      "text/plain": [
       "          0               1\n",
       "0     B2218       Göttingen\n",
       "1  I8000026    Basel Bad Bf\n",
       "2  I8003693   Lindau-Reutin\n",
       "3  I8099503  Hildesheim Gbf"
      ]
     },
     "execution_count": 64,
     "metadata": {},
     "output_type": "execute_result"
    }
   ],
   "source": [
    "query = \"MATCH (s:Station) WHERE NOT (s)-[:LOCATED_IN]->() RETURN s.stationKey AS stationKey, s.name AS stationName\"\n",
    "queryResult = g.run(query)\n",
    "pd.DataFrame(queryResult)"
   ]
  },
  {
   "cell_type": "markdown",
   "metadata": {},
   "source": [
    "The result shows that some stations are not assigned to any county. The correct countyId was not available for these stations. Therefore, we manually determined the countyId for these stations and then created the edges."
   ]
  },
  {
   "cell_type": "code",
   "execution_count": 65,
   "metadata": {},
   "outputs": [],
   "source": [
    "# manually create connections\n",
    "stationCountyEdges = []\n",
    "stationCountyEdges.append((\"B2218\", {}, \"03159\"))\n",
    "stationCountyEdges.append((\"I8000026\", {}, \"08336\"))\n",
    "stationCountyEdges.append((\"I8003693\", {}, \"09776\"))\n",
    "stationCountyEdges.append((\"I8099503\", {}, \"03254\"))\n",
    "\n",
    "# insert data\n",
    "create_relationships(g.auto(), stationCountyEdges, \"LOCATED_IN\", \\\n",
    "    start_node_key=(\"Station\", \"stationKey\"), end_node_key=(\"County\", \"countyId\"))"
   ]
  },
  {
   "cell_type": "code",
   "execution_count": 66,
   "metadata": {},
   "outputs": [
    {
     "data": {
      "text/html": [
       "<div>\n",
       "<style scoped>\n",
       "    .dataframe tbody tr th:only-of-type {\n",
       "        vertical-align: middle;\n",
       "    }\n",
       "\n",
       "    .dataframe tbody tr th {\n",
       "        vertical-align: top;\n",
       "    }\n",
       "\n",
       "    .dataframe thead th {\n",
       "        text-align: right;\n",
       "    }\n",
       "</style>\n",
       "<table border=\"1\" class=\"dataframe\">\n",
       "  <thead>\n",
       "    <tr style=\"text-align: right;\">\n",
       "      <th></th>\n",
       "    </tr>\n",
       "  </thead>\n",
       "  <tbody>\n",
       "  </tbody>\n",
       "</table>\n",
       "</div>"
      ],
      "text/plain": [
       "Empty DataFrame\n",
       "Columns: []\n",
       "Index: []"
      ]
     },
     "execution_count": 66,
     "metadata": {},
     "output_type": "execute_result"
    }
   ],
   "source": [
    "# perform validation\n",
    "query = \"MATCH (s:Station) WHERE NOT (s)-[:LOCATED_IN]->() RETURN s.stationKey AS stationKey, s.name AS stationName\"\n",
    "queryResult = g.run(query)\n",
    "pd.DataFrame(queryResult)"
   ]
  },
  {
   "cell_type": "markdown",
   "metadata": {},
   "source": [
    "The validation shows that all stations are now assigned to a county."
   ]
  },
  {
   "cell_type": "markdown",
   "metadata": {},
   "source": [
    "## Trains"
   ]
  },
  {
   "cell_type": "markdown",
   "metadata": {},
   "source": [
    "In the last section, the trains are transferred to the graph database. The trains are mapped as edges between two station nodes (label `TRAIN`).\n",
    "\n",
    "In the next code cell, the data is first prepared (desired format) to be inserted into the graph database. This requires several transformation steps. The original schedule contains the IBNR as the station identifier. However, we use our own station key, as described in the previous section. Therefore, the station identifier attributes need to be changed (keemapping). Also, various attributes (e.g. on-board restaurant, bicycle) have to be extracted and the travel time between the two stations has to be calculated (arrTime - depTime)."
   ]
  },
  {
   "cell_type": "code",
   "execution_count": 67,
   "metadata": {},
   "outputs": [
    {
     "data": {
      "text/plain": [
       "[('B1343',\n",
       "  {'trainNumber': 'IC 2274',\n",
       "   'trainType': 'IC',\n",
       "   'depTime': '05:19',\n",
       "   'arrTime': '05:24',\n",
       "   'lag': 0,\n",
       "   'bordrestaurant': False,\n",
       "   'bordbistro': False,\n",
       "   'bicycle': True,\n",
       "   'duration': 5},\n",
       "  'B1352'),\n",
       " ('B1352',\n",
       "  {'trainNumber': 'IC 2274',\n",
       "   'trainType': 'IC',\n",
       "   'depTime': '05:26',\n",
       "   'arrTime': '05:54',\n",
       "   'lag': 1,\n",
       "   'bordrestaurant': False,\n",
       "   'bordbistro': False,\n",
       "   'bicycle': True,\n",
       "   'duration': 28},\n",
       "  'B1569')]"
      ]
     },
     "execution_count": 67,
     "metadata": {},
     "output_type": "execute_result"
    }
   ],
   "source": [
    "# get keymapping\n",
    "keymapping =  stationDf[[\"IBNR\", \"stationKey\"]].to_dict(\"records\")\n",
    "\n",
    "# create empty list\n",
    "connections = []\n",
    "\n",
    "# query train timetable\n",
    "result = db.stops.find({},{\"stop\":1,\"_id\":0})\n",
    "\n",
    "\n",
    "for train in result:\n",
    "\n",
    "    timetableTrain = train[\"stop\"]\n",
    "\n",
    "    for stopNr in range(len(timetableTrain)-1):\n",
    "\n",
    "\n",
    "        # only consider lags in germany --> The IBNR number of german stations begin with 80\n",
    "        if str(timetableTrain[stopNr][\"stopId\"])[:2] != \"80\" or str(timetableTrain[stopNr+1][\"stopId\"])[:2] != \"80\":\n",
    "            continue\n",
    " \n",
    "        # get departure stop key\n",
    "        depIndex = next((index for (index, d) in enumerate(keymapping) if d[\"IBNR\"] == timetableTrain[stopNr][\"stopId\"]), -1)\n",
    "        depKey = keymapping[depIndex][\"stationKey\"]\n",
    "\n",
    "        # get arrival stop key\n",
    "        arrIndex = next((index for (index, d) in enumerate(keymapping) if d[\"IBNR\"] == timetableTrain[stopNr+1][\"stopId\"]), -1)\n",
    "        arrKey = keymapping[arrIndex][\"stationKey\"]\n",
    "\n",
    "\n",
    "        # only insert connection, it it is not yet in the dictionary\n",
    "        if not any(depKey == d[0] and timetableTrain[stopNr][\"train\"] == d[1][\"trainNumber\"] for d in connections):\n",
    "\n",
    "            # create empty list\n",
    "            connection = []\n",
    "\n",
    "            # departure station\n",
    "            # ------------------------\n",
    "            connection.append(depKey)\n",
    "\n",
    "            # relationship attributes\n",
    "            # ------------------------\n",
    "\n",
    "            # base attributes\n",
    "            rel = {\n",
    "                \"trainNumber\":timetableTrain[stopNr][\"train\"],\n",
    "                \"trainType\":timetableTrain[stopNr][\"type\"],\n",
    "                \"depTime\":timetableTrain[stopNr][\"depTime\"],\n",
    "                \"arrTime\":timetableTrain[stopNr+1][\"arrTime\"],\n",
    "                \"lag\":stopNr,\n",
    "                \"bordrestaurant\": (True if any(d[\"key\"]==\"BR\" for d in timetableTrain[stopNr][\"notes\"])             # check train ICE 205\n",
    "                                        and  any(d[\"key\"]==\"BR\" for d in timetableTrain[stopNr+1][\"notes\"]) else False),\n",
    "                \"bordbistro\": (True if any(d[\"key\"]==\"BT\" for d in timetableTrain[stopNr][\"notes\"])\n",
    "                                        and  any(d[\"key\"]==\"BT\" for d in timetableTrain[stopNr+1][\"notes\"]) else False),\n",
    "                \"bicycle\": (True if any(d[\"key\"]==\"FR\" for d in timetableTrain[stopNr][\"notes\"])\n",
    "                                        and  any(d[\"key\"]==\"FR\" for d in timetableTrain[stopNr+1][\"notes\"]) else False)\n",
    "            }             \n",
    "\n",
    "            # calculate and add duration of lag in minutes\n",
    "            duration  = datetime.datetime.strptime(rel[\"arrTime\"], '%H:%M') - datetime.datetime.strptime(rel[\"depTime\"], '%H:%M')\n",
    "\n",
    "            if duration.days < 0:   # trains running over midnight \n",
    "                    duration = timedelta(days=0,seconds=duration.seconds)\n",
    "\n",
    "            rel[\"duration\"] = int(duration.seconds/60)\n",
    "\n",
    "            connection.append(rel) \n",
    "\n",
    "            # arrival station\n",
    "            # ------------------------\n",
    "            connection.append(arrKey)\n",
    "\n",
    "            # convert to tuple and append to connection list\n",
    "            connections.append(tuple(connection))\n",
    "\n",
    "# print connections\n",
    "connections[:2]"
   ]
  },
  {
   "cell_type": "markdown",
   "metadata": {},
   "source": [
    "Then the edges are inserted into the database."
   ]
  },
  {
   "cell_type": "code",
   "execution_count": 68,
   "metadata": {},
   "outputs": [],
   "source": [
    "create_relationships(g.auto(), connections, \"TRAIN\", start_node_key=(\"Station\", \"stationKey\"), end_node_key=(\"Station\", \"stationKey\"))"
   ]
  },
  {
   "cell_type": "markdown",
   "metadata": {},
   "source": [
    "If all data has been entered correctly, each train must be displayed as a continuous chain (no breaks). The validation query returns all trains where this is not the case."
   ]
  },
  {
   "cell_type": "code",
   "execution_count": 69,
   "metadata": {},
   "outputs": [
    {
     "data": {
      "text/html": [
       "<div>\n",
       "<style scoped>\n",
       "    .dataframe tbody tr th:only-of-type {\n",
       "        vertical-align: middle;\n",
       "    }\n",
       "\n",
       "    .dataframe tbody tr th {\n",
       "        vertical-align: top;\n",
       "    }\n",
       "\n",
       "    .dataframe thead th {\n",
       "        text-align: right;\n",
       "    }\n",
       "</style>\n",
       "<table border=\"1\" class=\"dataframe\">\n",
       "  <thead>\n",
       "    <tr style=\"text-align: right;\">\n",
       "      <th></th>\n",
       "      <th>trainNumber</th>\n",
       "      <th>actual</th>\n",
       "      <th>correct</th>\n",
       "    </tr>\n",
       "  </thead>\n",
       "  <tbody>\n",
       "  </tbody>\n",
       "</table>\n",
       "</div>"
      ],
      "text/plain": [
       "Empty DataFrame\n",
       "Columns: [trainNumber, actual, correct]\n",
       "Index: []"
      ]
     },
     "execution_count": 69,
     "metadata": {},
     "output_type": "execute_result"
    }
   ],
   "source": [
    "query = \"\"\"MATCH () -[t:TRAIN]-> ()\n",
    "           WITH t.trainNumber as name, COUNT(t) as actual, MAX(t.lag)-MIN(t.lag)+1 as correct\n",
    "           WHERE actual <> correct\n",
    "           RETURN name, actual, correct\"\"\"\n",
    "\n",
    "pd.DataFrame(g.run(query), columns=[\"trainNumber\", \"actual\", \"correct\"])"
   ]
  },
  {
   "cell_type": "markdown",
   "metadata": {},
   "source": [
    "Since the result set is empty, the trains are correctly represented in the database."
   ]
  }
 ],
 "metadata": {
  "interpreter": {
   "hash": "729b9004e7a52f0eef1eacf999ed12ca7b790ca6af782d92c6a85751888e20dc"
  },
  "kernelspec": {
   "display_name": "Python 3 (ipykernel)",
   "language": "python",
   "name": "python3"
  },
  "language_info": {
   "codemirror_mode": {
    "name": "ipython",
    "version": 3
   },
   "file_extension": ".py",
   "mimetype": "text/x-python",
   "name": "python",
   "nbconvert_exporter": "python",
   "pygments_lexer": "ipython3",
   "version": "3.9.7"
  }
 },
 "nbformat": 4,
 "nbformat_minor": 2
}
